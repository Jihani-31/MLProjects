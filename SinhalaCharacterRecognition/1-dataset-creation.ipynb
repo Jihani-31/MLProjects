{
 "cells": [
  {
   "cell_type": "code",
   "execution_count": 1,
   "metadata": {},
   "outputs": [
    {
     "name": "stdout",
     "output_type": "stream",
     "text": [
      "['a', 'ae', 'e', 'u']\n",
      "[0, 1, 2, 3]\n",
      "{'a': 0, 'ae': 1, 'e': 2, 'u': 3}\n"
     ]
    }
   ],
   "source": [
    "import os\n",
    "import numpy as np\n",
    "\n",
    "data_path='dataset'\n",
    "\n",
    "categories=os.listdir(data_path)\n",
    "print(categories)\n",
    "labels=[i for i in range(len(categories))]\n",
    "print(labels)\n",
    "category_dict={'a':0,'ae':1,'e':2,'u':3}\n",
    "print(category_dict)"
   ]
  },
  {
   "cell_type": "code",
   "execution_count": 12,
   "metadata": {},
   "outputs": [
    {
     "name": "stdout",
     "output_type": "stream",
     "text": [
      "a ---------------------\n",
      "ae ---------------------\n",
      "e ---------------------\n",
      "u ---------------------\n"
     ]
    }
   ],
   "source": [
    "import cv2\n",
    "\n",
    "data=[]\n",
    "target=[]\n",
    "\n",
    "for category in categories:\n",
    "    imgs_path=os.path.join(data_path,category)\n",
    "    img_names=os.listdir(imgs_path)\n",
    "    #print(imgs_path,img_names)\n",
    "    print(category,'---------------------')\n",
    "    for img_name in img_names:\n",
    "        img_path=os.path.join(imgs_path,img_name)\n",
    "        #print(img_path)\n",
    "        img=cv2.imread(img_path,0)\n",
    "        img=cv2.resize(img,(8,8))\n",
    "        data.append(img)\n",
    "        target.append(category_dict[category])\n",
    "        #cv2.imshow('LIVE',img)\n",
    "        #k=cv2.waitKey(100)\n",
    "        #if(k==27):\n",
    "            #break\n",
    "#cv2.destroyAllWindows()"
   ]
  },
  {
   "cell_type": "code",
   "execution_count": 13,
   "metadata": {},
   "outputs": [
    {
     "name": "stdout",
     "output_type": "stream",
     "text": [
      "270 270\n"
     ]
    }
   ],
   "source": [
    "print(len(data),len(target))"
   ]
  },
  {
   "cell_type": "code",
   "execution_count": 14,
   "metadata": {},
   "outputs": [
    {
     "data": {
      "text/plain": [
       "<matplotlib.image.AxesImage at 0x1b9e3d14f28>"
      ]
     },
     "execution_count": 14,
     "metadata": {},
     "output_type": "execute_result"
    },
    {
     "data": {
      "image/png": "[encoded data removed]",
      "text/plain": [
       "<Figure size 432x288 with 1 Axes>"
      ]
     },
     "metadata": {
      "needs_background": "light"
     },
     "output_type": "display_data"
    }
   ],
   "source": [
    "from matplotlib import pyplot as plt\n",
    "\n",
    "plt.imshow(data[10],cmap='gray')"
   ]
  },
  {
   "cell_type": "code",
   "execution_count": 15,
   "metadata": {},
   "outputs": [
    {
     "data": {
      "text/plain": [
       "array([[255, 255, 255, 255, 255, 255, 255, 255],\n",
       "       [255, 255, 255, 255, 255, 255, 255, 255],\n",
       "       [  0,   0, 255, 255,   6, 255,   0, 255],\n",
       "       [255, 255, 255,   0,   0,   0,   0, 255],\n",
       "       [255, 255,  95, 255, 255,   0, 255,  46],\n",
       "       [255, 255, 255, 255, 255,   0, 255, 255],\n",
       "       [255, 255, 255, 255, 255,   0, 255, 255],\n",
       "       [255, 255, 255, 255, 255, 255, 255, 255]], dtype=uint8)"
      ]
     },
     "execution_count": 15,
     "metadata": {},
     "output_type": "execute_result"
    }
   ],
   "source": [
    "data[10]"
   ]
  },
  {
   "cell_type": "code",
   "execution_count": 17,
   "metadata": {},
   "outputs": [
    {
     "data": {
      "text/plain": [
       "0"
      ]
     },
     "execution_count": 17,
     "metadata": {},
     "output_type": "execute_result"
    }
   ],
   "source": [
    "target[10]"
   ]
  },
  {
   "cell_type": "code",
   "execution_count": 18,
   "metadata": {},
   "outputs": [
    {
     "name": "stdout",
     "output_type": "stream",
     "text": [
      "before resize: (270, 8, 8)\n"
     ]
    }
   ],
   "source": [
    "data=np.array(data)\n",
    "print('before resize:',data.shape)"
   ]
  },
  {
   "cell_type": "code",
   "execution_count": 19,
   "metadata": {},
   "outputs": [
    {
     "name": "stdout",
     "output_type": "stream",
     "text": [
      "before resize: (270,)\n"
     ]
    }
   ],
   "source": [
    "target=np.array(target)\n",
    "print('before resize:',target.shape)"
   ]
  },
  {
   "cell_type": "code",
   "execution_count": 20,
   "metadata": {},
   "outputs": [
    {
     "name": "stdout",
     "output_type": "stream",
     "text": [
      "before resize: (270, 8, 8)\n",
      "after resize: (270, 64)\n"
     ]
    }
   ],
   "source": [
    "data=np.array(data)\n",
    "print('before resize:',data.shape)\n",
    "data=data.reshape(data.shape[0],data.shape[1]*data.shape[2])\n",
    "#data=data.reshape(270,8*8)\n",
    "print('after resize:',data.shape)\n",
    "target=np.array(target)\n",
    "\n",
    "np.save('data',data)\n",
    "np.save('target',target)"
   ]
  },
  {
   "cell_type": "code",
   "execution_count": null,
   "metadata": {},
   "outputs": [],
   "source": [
    "print(target.shape)"
   ]
  },
  {
   "cell_type": "code",
   "execution_count": null,
   "metadata": {},
   "outputs": [],
   "source": [
    "print(target)"
   ]
  }
 ],
 "metadata": {
  "kernelspec": {
   "display_name": "Python 3",
   "language": "python",
   "name": "python3"
  },
  "language_info": {
   "codemirror_mode": {
    "name": "ipython",
    "version": 3
   },
   "file_extension": ".py",
   "mimetype": "text/x-python",
   "name": "python",
   "nbconvert_exporter": "python",
   "pygments_lexer": "ipython3",
   "version": "3.6.8"
  }
 },
 "nbformat": 4,
 "nbformat_minor": 2
}
